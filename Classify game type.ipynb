{
 "cells": [
  {
   "cell_type": "code",
   "execution_count": 2,
   "metadata": {},
   "outputs": [],
   "source": [
    "# Set parameters\n",
    "import os\n",
    "import numpy as np\n",
    "import seaborn as sns\n",
    "import matplotlib.pyplot as plt\n",
    "from sklearn.linear_model import TheilSenRegressor\n",
    "\n",
    "u = 3.4e-05\n",
    "s = 0.4/100\n",
    "T = 3\n",
    "years=25\n",
    "days = int(np.floor(years/4.))*366+(years-int(np.floor(years/4.)))*365\n",
    "t_tot = int(days/T)\n",
    "d = lambda j: (1-s)**(j+1)/2\n",
    "b = lambda j: 1-d(j)\n",
    "p = [[b(0)*(1-u), d(0), b(0)*u], [b(1), d(1), 0]]"
   ]
  },
  {
   "cell_type": "code",
   "execution_count": 3,
   "metadata": {},
   "outputs": [],
   "source": [
    "# Run simulation, using np.random.multinomial to find the number of birth,␣death and mutation cells\n",
    "def simulation(p0, N0, seed=None):\n",
    "    if seed==None: seed = np.random.randint(0, 987654321)\n",
    "    np.random.seed(seed)\n",
    "    \n",
    "    N = [[int(N0*p0), N0-int(N0*p0)]]\n",
    "    for t in range(t_tot):\n",
    "        M_j_prev = 0; N_new = [0, 0]\n",
    "        for j in range(2):\n",
    "            try:\n",
    "                B_j, D_j, M_j = np.random.multinomial(N[t][j], p[j])\n",
    "            except ValueError:\n",
    "                N_1, N_2 = np.array(N).T\n",
    "                return N_1, N_2, True, seed\n",
    "            N_new[j] = N[t][j] + B_j - D_j + M_j_prev\n",
    "            M_j_prev = M_j\n",
    "        N.append(N_new)\n",
    "    N_1, N_2 = np.array(N).T\n",
    "    return N_1, N_2, False, seed"
   ]
  },
  {
   "cell_type": "code",
   "execution_count": 4,
   "metadata": {},
   "outputs": [],
   "source": [
    "# Find seeds in which the population 2 survive\n",
    "def find_survive(num_trials, p0, N0):\n",
    "    seeds = []\n",
    "    while True:\n",
    "        N_1, N_2, flag, seed = simulation(p0, N0)\n",
    "\n",
    "        if not flag and N_2[-1]!= 0:\n",
    "            seeds.append(seed)\n",
    "        if len(seeds) == num_trials: break\n",
    "    print('seeds: ', ' '.join([str(seed) for seed in seeds]))\n",
    "    return seeds"
   ]
  },
  {
   "cell_type": "code",
   "execution_count": 8,
   "metadata": {},
   "outputs": [
    {
     "name": "stderr",
     "output_type": "stream",
     "text": [
      "C:\\Users\\belle\\AppData\\Local\\Temp/ipykernel_6932/1337237587.py:15: RuntimeWarning: overflow encountered in long_scalars\n",
      "  N_new[j] = N[t][j] + B_j - D_j + M_j_prev\n"
     ]
    },
    {
     "name": "stdout",
     "output_type": "stream",
     "text": [
      "seeds:  473726723 595028107 674193277 27456996 152984203 17572512 545213489 946212593 968857656 345341846\n",
      "seeds:  396227744 616099887 678873354 53597313 98472826 500671012 211842066 76527463 890197643 692894556\n",
      "seeds:  235849499 371659549 697400679 786424583 552823000 121009217 465424948 751314043 48734859 271112583\n",
      "seeds:  116889543 297349638 528214477 976741531 458196807 337400502 481895430 402354247 404758213 911375367\n",
      "seeds:  922817875 314294828 517553958 947130180 113452141 636950317 203151797 434798443 245117605 566546334\n",
      "seeds:  104588629 543095836 555533359 727466243 187605644 49928783 97390115 262777897 333152700 531798452\n",
      "seeds:  833724607 749525247 834448777 645142433 906644145 738062388 674433800 797721248 571780507 508688666\n",
      "seeds:  249070510 278237575 618858381 644654558 731792669 78255828 522660462 934600737 908558585 415671456\n",
      "seeds:  407463671 233872515 74477148 909152410 271417879 375552312 502686025 113693796 896672802 102138893\n"
     ]
    }
   ],
   "source": [
    "# Get the seeds\n",
    "num_trials = 10\n",
    "p0_grid = np.arange(0.1,1,0.1)\n",
    "\n",
    "dic_seed = {}\n",
    "for p0 in p0_grid:\n",
    "    seed = find_survive(num_trials, p0, 10)\n",
    "    dic_seed[p0] = seed"
   ]
  },
  {
   "cell_type": "code",
   "execution_count": 9,
   "metadata": {},
   "outputs": [
    {
     "name": "stderr",
     "output_type": "stream",
     "text": [
      "C:\\Users\\belle\\AppData\\Local\\Temp/ipykernel_6932/1337237587.py:15: RuntimeWarning: overflow encountered in long_scalars\n",
      "  N_new[j] = N[t][j] + B_j - D_j + M_j_prev\n"
     ]
    }
   ],
   "source": [
    "# Store simulations\n",
    "if not os.path.exists: os.mkdir('sim')\n",
    "\n",
    "for p0 in p0_grid:\n",
    "    for trial in range(10):\n",
    "        N_1, N_2, flag, seed = simulation(p0, 10, seed=dic_seed[p0][trial])\n",
    "        np.save('./sim/p0={:.2f}_seed={}.npy'.format(p0, dic_seed[p0][trial]), [N_1, N_2])"
   ]
  },
  {
   "cell_type": "code",
   "execution_count": 10,
   "metadata": {},
   "outputs": [
    {
     "name": "stdout",
     "output_type": "stream",
     "text": [
      "Number of files: 30\n",
      "Number of files: 30\n",
      "Number of files: 30\n",
      "Number of files: 30\n",
      "Number of files: 30\n",
      "Number of files: 30\n",
      "Number of files: 30\n",
      "Number of files: 30\n",
      "Number of files: 30\n"
     ]
    },
    {
     "data": {
      "text/plain": [
       "<Figure size 720x360 with 0 Axes>"
      ]
     },
     "metadata": {},
     "output_type": "display_data"
    },
    {
     "data": {
      "text/plain": [
       "<Figure size 720x360 with 0 Axes>"
      ]
     },
     "metadata": {},
     "output_type": "display_data"
    },
    {
     "data": {
      "text/plain": [
       "<Figure size 720x360 with 0 Axes>"
      ]
     },
     "metadata": {},
     "output_type": "display_data"
    },
    {
     "data": {
      "text/plain": [
       "<Figure size 720x360 with 0 Axes>"
      ]
     },
     "metadata": {},
     "output_type": "display_data"
    },
    {
     "data": {
      "text/plain": [
       "<Figure size 720x360 with 0 Axes>"
      ]
     },
     "metadata": {},
     "output_type": "display_data"
    },
    {
     "data": {
      "text/plain": [
       "<Figure size 720x360 with 0 Axes>"
      ]
     },
     "metadata": {},
     "output_type": "display_data"
    },
    {
     "data": {
      "text/plain": [
       "<Figure size 720x360 with 0 Axes>"
      ]
     },
     "metadata": {},
     "output_type": "display_data"
    },
    {
     "data": {
      "text/plain": [
       "<Figure size 720x360 with 0 Axes>"
      ]
     },
     "metadata": {},
     "output_type": "display_data"
    },
    {
     "data": {
      "text/plain": [
       "<Figure size 720x360 with 0 Axes>"
      ]
     },
     "metadata": {},
     "output_type": "display_data"
    }
   ],
   "source": [
    "# Fit slope & Visualize simulation\n",
    "\n",
    "\n",
    "def log_filter(x):\n",
    "    return [np.log(i) if i>0 else 0 for i in x]\n",
    "\n",
    "def get_files(p0):\n",
    "    res = []\n",
    "    for file in os.listdir('./sim/'):\n",
    "        if 'p0={:.2f}'.format(p0) in file: res.append(file)\n",
    "    return res\n",
    "\n",
    "def fit_fitness(p0):\n",
    "    fig = plt.figure(figsize=(10,5))\n",
    "    ax1 = fig.add_subplot(121)\n",
    "    ax2 = fig.add_subplot(122)\n",
    "\n",
    "    idx = -1; start = 2000\n",
    "    a1s, a2s = [], []\n",
    "    files = get_files(p0); N = len(files)\n",
    "    print('Number of files: {}'.format(N))\n",
    "    color_red = sns.color_palette(\"YlOrBr\", N)\n",
    "    color_blue = sns.color_palette(\"Blues\", N)\n",
    "    \n",
    "    for trial in range(len(files)):\n",
    "        N_1, N_2 = np.load(os.path.join('./sim/', files[trial]))\n",
    "        estimator1 = TheilSenRegressor()\n",
    "        estimator1.fit(np.array(range(start, len(N_1))).reshape(-1,1), log_filter(N_1)[start:])\n",
    "        a1, b1 = estimator1.coef_.item(), estimator1.intercept_\n",
    "        label1 = '$N_1$, simulation' if trial==9 else ''\n",
    "        label2 = '$N_1$, fitted' if trial==9 else ''\n",
    "        ax1.plot(log_filter(N_1), color=color_red[trial], label=label1)\n",
    "        ax2.plot(a1*np.array(range(len(N_1)))+b1, color=color_red[trial], label=label2)\n",
    "        a1s.append(a1)\n",
    "\n",
    "        estimator2 = TheilSenRegressor()\n",
    "        estimator2.fit(np.array(range(start, len(N_2))).reshape(-1,1), log_filter(N_2)[start:])\n",
    "        a2, b2 = estimator2.coef_.item(), estimator2.intercept_\n",
    "        label1 = '$N_2$, simulation' if trial==9 else ''\n",
    "        label2 = '$N_2$, fitted' if trial==9 else ''\n",
    "        ax1.plot(log_filter(N_2), color=color_blue[trial], label=label1)\n",
    "        ax2.plot(a2*np.array(range(len(N_2)))+b2, color=color_blue[trial], label=label2)\n",
    "        a2s.append(a2)\n",
    "\n",
    "    ax1.set_ylim((0,20))\n",
    "    ax2.set_ylim((0,20))\n",
    "    ax1.set_xlabel('time'); ax1.set_ylabel('log(N)'); ax1.legend()\n",
    "    ax2.set_xlabel('time'); ax2.set_ylabel('log(N)'); ax2.legend()\n",
    "    plt.suptitle('$p_0=${:.2f}'.format(p0))\n",
    "    plt.savefig('./fig/p0={:.2f}.png'.format(p0), dpi=300); plt.clf()\n",
    "    \n",
    "    return a1s, a2s\n",
    "\n",
    "all_a1s, all_a2s = [], []\n",
    "for p0 in p0_grid:\n",
    "    a1s, a2s = fit_fitness(p0)\n",
    "    all_a1s += [[p0, a1] for a1 in a1s]\n",
    "    all_a2s += [[p0, a2] for a2 in a2s]"
   ]
  },
  {
   "cell_type": "code",
   "execution_count": 12,
   "metadata": {},
   "outputs": [
    {
     "data": {
      "image/png": "[encoded data removed]",
      "text/plain": [
       "<Figure size 720x288 with 2 Axes>"
      ]
     },
     "metadata": {
      "needs_background": "light"
     },
     "output_type": "display_data"
    }
   ],
   "source": [
    "x1, y1 = zip(*all_a1s)\n",
    "x2, y2 = zip(*all_a2s)\n",
    "\n",
    "estimator1 = TheilSenRegressor()\n",
    "estimator1.fit(np.array(x1).reshape(-1,1), y1)\n",
    "a1, b1 = estimator1.coef_.item(), estimator1.intercept_\n",
    "\n",
    "estimator2 = TheilSenRegressor()\n",
    "estimator2.fit(np.array(x2).reshape(-1,1), y2)\n",
    "a2, b2 = estimator2.coef_.item(), estimator2.intercept_\n",
    "\n",
    "fig = plt.figure(figsize=(10,4))\n",
    "ax1 = fig.add_subplot(121)\n",
    "ax2 = fig.add_subplot(122)\n",
    "ax1.plot(x1, y1, 'r.')\n",
    "ax2.plot(x2, y2, 'b.')\n",
    "ax1.plot(p0_grid, a1*p0_grid+b1, 'k--')\n",
    "ax2.plot(p0_grid, a2*p0_grid+b2, 'k--')\n",
    "ax1.set_title('slope: {:.5f}, intercept: {:.5f}'.format(a1, b1)); ax1.set_xlabel('$p_0$'); ax1.set_ylabel('fitness')\n",
    "ax2.set_title('slope: {:.5f}, intercept: {:.5f}'.format(a2, b2)); ax2.set_xlabel('$p_0$'); ax2.set_ylabel('fitness')\n",
    "plt.tight_layout()\n",
    "plt.savefig('no_competition.png', dpi=300)"
   ]
  },
  {
   "cell_type": "code",
   "execution_count": null,
   "metadata": {},
   "outputs": [],
   "source": []
  }
 ],
 "metadata": {
  "kernelspec": {
   "display_name": "Python 3 (ipykernel)",
   "language": "python",
   "name": "python3"
  },
  "language_info": {
   "codemirror_mode": {
    "name": "ipython",
    "version": 3
   },
   "file_extension": ".py",
   "mimetype": "text/x-python",
   "name": "python",
   "nbconvert_exporter": "python",
   "pygments_lexer": "ipython3",
   "version": "3.9.7"
  }
 },
 "nbformat": 4,
 "nbformat_minor": 2
}
